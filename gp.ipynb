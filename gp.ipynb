{
 "cells": [
  {
   "cell_type": "code",
   "execution_count": 12,
   "metadata": {},
   "outputs": [],
   "source": [
    "import sys\n",
    "import networkx as nx\n",
    "import matplotlib.pyplot as plt\n",
    "import pygraphviz as pgv\n",
    "import random\n",
    "from os import listdir\n",
    "import pickle\n",
    "import time\n",
    "import instance\n",
    "import statistics\n",
    "from utils import read_param,add_lists,sub_lists, less_than, min_finish_time, find_index #Utility functions\n",
    "import numpy as np\n",
    "from deap import base,creator,tools,algorithms,gp\n",
    "import operator\n",
    "import math"
   ]
  },
  {
   "cell_type": "code",
   "execution_count": 2,
   "metadata": {},
   "outputs": [],
   "source": [
    "train_set=[]\n",
    "\n",
    "types=['j30','j60']\n",
    "for typ in types:\n",
    "  for i in range(1,49):\n",
    "    train_set.append(\"./\"+typ+'/'+typ+str(i)+\"_1.sm\")\n",
    "    train_set.append(\"./\"+typ+'/'+typ+str(i)+\"_2.sm\")\n"
   ]
  },
  {
   "cell_type": "code",
   "execution_count": 3,
   "metadata": {},
   "outputs": [],
   "source": [
    "\n",
    "POP_SIZE=1024\n",
    "NUM_GENERATIONS=25\n",
    "INST_TYPE='j60'\n",
    "MATING_PROB=0.5\n",
    "MUTATION_PROB=0.3\n",
    "SELECTION_POOL_SIZE=7\n",
    "HOF_SIZE=1\n",
    "HEIGHT_LIMIT = 6\n",
    "MU=1024\n",
    "LAMBDA=1024\n",
    "GEN_MIN_HEIGHT=3\n",
    "GEN_MAX_HEIGHT=5"
   ]
  },
  {
   "cell_type": "code",
   "execution_count": 4,
   "metadata": {},
   "outputs": [
    {
     "name": "stdout",
     "output_type": "stream",
     "text": [
      "   \t      \t                                 fitness                                 \t                      size                     \n",
      "   \t      \t-------------------------------------------------------------------------\t-----------------------------------------------\n",
      "gen\tnevals\tavg     \tgen\tmax     \tmin     \tnevals\tstd      \tavg    \tgen\tmax\tmin\tnevals\tstd    \n",
      "0  \t1024  \t0.245142\t0  \t0.306941\t0.173547\t1024  \t0.0301487\t22.3145\t0  \t63 \t4  \t1024  \t12.8076\n",
      "1  \t821   \t0.20355 \t1  \t0.253415\t0.173547\t821   \t0.0157159\t21.7676\t1  \t61 \t2  \t821   \t12.1611\n",
      "2  \t834   \t0.184907\t2  \t0.208535\t0.173051\t834   \t0.00676349\t20.6328\t2  \t61 \t2  \t834   \t12.3812\n",
      "3  \t827   \t0.177169\t3  \t0.189417\t0.172503\t827   \t0.00348525\t17.2129\t3  \t61 \t2  \t827   \t7.89071\n",
      "4  \t838   \t0.173676\t4  \t0.180078\t0.17207 \t838   \t0.000920015\t17.7207\t4  \t41 \t6  \t838   \t6.19287\n",
      "5  \t797   \t0.173089\t5  \t0.173996\t0.17207 \t797   \t0.000419875\t22.8418\t5  \t38 \t6  \t797   \t6.26517\n",
      "6  \t815   \t0.172533\t6  \t0.173547\t0.17207 \t815   \t0.000318498\t24.9668\t6  \t41 \t14 \t815   \t4.30103\n",
      "7  \t817   \t0.17218 \t7  \t0.172776\t0.172038\t817   \t0.000178897\t19.5811\t7  \t37 \t9  \t817   \t4.57589\n",
      "8  \t820   \t0.17207 \t8  \t0.172394\t0.172038\t820   \t1.63176e-05\t17.1064\t8  \t29 \t9  \t820   \t2.06945\n",
      "9  \t822   \t0.172067\t9  \t0.17207 \t0.172038\t822   \t9.31262e-06\t18.1348\t9  \t29 \t9  \t822   \t3.75409\n",
      "10 \t809   \t0.172047\t10 \t0.17207 \t0.170197\t809   \t0.000130547\t22.0234\t10 \t29 \t9  \t809   \t5.92181\n",
      "11 \t821   \t0.171988\t11 \t0.17207 \t0.170197\t821   \t0.000293407\t28.0859\t11 \t33 \t15 \t821   \t2.61987\n",
      "12 \t796   \t0.171695\t12 \t0.172038\t0.169571\t796   \t0.00070222 \t28.707 \t12 \t53 \t25 \t796   \t1.30807\n",
      "13 \t820   \t0.170771\t13 \t0.172038\t0.169571\t820   \t0.000865169\t28.8994\t13 \t56 \t25 \t820   \t2.1787 \n",
      "14 \t804   \t0.170043\t14 \t0.172038\t0.169571\t804   \t0.00031654 \t28.8916\t14 \t56 \t21 \t804   \t1.08657\n",
      "15 \t801   \t0.169691\t15 \t0.170197\t0.169571\t801   \t0.000240114\t28.8984\t15 \t33 \t21 \t801   \t0.813363\n",
      "16 \t821   \t0.16957 \t16 \t0.169571\t0.169246\t821   \t1.75698e-05\t28.9883\t16 \t33 \t25 \t821   \t0.279263\n",
      "17 \t825   \t0.169567\t17 \t0.169571\t0.169246\t825   \t3.6395e-05 \t28.9609\t17 \t33 \t25 \t825   \t0.431247\n",
      "18 \t808   \t0.16955 \t18 \t0.169571\t0.169246\t808   \t8.03873e-05\t28.9531\t18 \t29 \t25 \t808   \t0.430468\n",
      "19 \t808   \t0.169465\t19 \t0.169571\t0.169246\t808   \t0.000152402\t28.9414\t19 \t29 \t25 \t808   \t0.480564\n",
      "20 \t841   \t0.169286\t20 \t0.169571\t0.169246\t841   \t0.000106789\t28.9766\t20 \t33 \t25 \t841   \t0.432378\n",
      "21 \t803   \t0.169246\t21 \t0.169246\t0.169246\t803   \t0          \t28.9883\t21 \t33 \t25 \t803   \t0.374817\n",
      "22 \t845   \t0.169246\t22 \t0.169246\t0.169246\t845   \t0          \t29.0039\t22 \t33 \t25 \t845   \t0.515373\n",
      "23 \t809   \t0.169246\t23 \t0.169246\t0.169246\t809   \t0          \t29.0117\t23 \t33 \t25 \t809   \t0.279263\n",
      "24 \t837   \t0.169246\t24 \t0.169246\t0.169246\t837   \t0          \t29.0195\t24 \t33 \t25 \t837   \t0.330142\n",
      "25 \t816   \t0.169246\t25 \t0.169246\t0.169246\t816   \t0          \t29.0117\t25 \t33 \t25 \t816   \t0.330511\n"
     ]
    }
   ],
   "source": [
    "def div(left, right):\n",
    "    try:\n",
    "        return left / right\n",
    "    except ZeroDivisionError:\n",
    "        return 1\n",
    "\n",
    "\n",
    "pset = gp.PrimitiveSet(\"MAIN\",10)\n",
    "pset.addPrimitive(operator.add, 2)\n",
    "pset.addPrimitive(operator.sub, 2)\n",
    "pset.addPrimitive(operator.mul, 2)\n",
    "pset.addPrimitive(div, 2)\n",
    "pset.addPrimitive(operator.neg, 1)\n",
    "pset.addPrimitive(max, 2)\n",
    "pset.addPrimitive(min, 2)\n",
    "pset.renameArguments(ARG0=\"ES\")\n",
    "pset.renameArguments(ARG1=\"EF\")\n",
    "pset.renameArguments(ARG2=\"LS\")\n",
    "pset.renameArguments(ARG3=\"LF\")\n",
    "pset.renameArguments(ARG4=\"TPC\")\n",
    "pset.renameArguments(ARG5=\"TSC\")\n",
    "pset.renameArguments(ARG6=\"RR\")\n",
    "pset.renameArguments(ARG7=\"AvgRReq\")\n",
    "pset.renameArguments(ARG8=\"MaxRReq\")\n",
    "pset.renameArguments(ARG9=\"MinRReq\")\n",
    "creator.create(\"FitnessMin\", base.Fitness, weights=(-1.0,))\n",
    "creator.create(\"Individual\", gp.PrimitiveTree, fitness=creator.FitnessMin)\n",
    "counts=0\n",
    "def evalSymbReg(individual):\n",
    "    # Transform the tree expression in a callable function\n",
    "    \n",
    "    func = toolbox.compile(expr=individual)\n",
    "    sumv=0\n",
    "    for i in range(len(train_set)):\n",
    "        \n",
    "        file=train_set[i]\n",
    "        \n",
    "        inst=instance.instance(file,use_precomputed=True)\n",
    "        priorities=[0]*(inst.n_jobs+1)\n",
    "        for j in range(1,inst.n_jobs+1):\n",
    "            priorities[j]=func(inst.earliest_start_times[j],inst.earliest_finish_times[j],inst.latest_start_times[j],inst.latest_finish_times[j],inst.mtp[j],inst.mts[j],inst.rr[j],inst.avg_rreq[j],inst.max_rreq[j],inst.min_rreq[j])\n",
    "\n",
    "        frac,makespan=inst.parallel_sgs(option='forward',priority_rule='',priorities=priorities)\n",
    "        sumv+=frac\n",
    "    \n",
    "    return (sumv/len(train_set),)\n",
    "\n",
    "toolbox = base.Toolbox()\n",
    "toolbox.register(\"expr\", gp.genHalfAndHalf, pset=pset, min_=GEN_MIN_HEIGHT, max_=GEN_MAX_HEIGHT)\n",
    "toolbox.register(\"individual\", tools.initIterate, creator.Individual, toolbox.expr)\n",
    "toolbox.register(\"population\", tools.initRepeat, list, toolbox.individual)\n",
    "toolbox.register(\"compile\", gp.compile, pset=pset)\n",
    "toolbox.register(\"evaluate\", evalSymbReg)\n",
    "toolbox.register(\"select\", tools.selTournament, tournsize=SELECTION_POOL_SIZE)\n",
    "toolbox.register(\"mate\", gp.cxOnePoint)\n",
    "toolbox.register(\"expr_mut\", gp.genFull, min_=GEN_MIN_HEIGHT, max_=GEN_MAX_HEIGHT)\n",
    "toolbox.register(\"mutate\", gp.mutUniform, expr=toolbox.expr_mut, pset=pset)\n",
    "\n",
    "toolbox.decorate(\"mate\", gp.staticLimit(key=operator.attrgetter(\"height\"), max_value=HEIGHT_LIMIT))\n",
    "toolbox.decorate(\"mutate\", gp.staticLimit(key=operator.attrgetter(\"height\"), max_value=HEIGHT_LIMIT))\n",
    "\n",
    "stats_fit = tools.Statistics(lambda ind: ind.fitness.values)\n",
    "stats_size = tools.Statistics(len)\n",
    "mstats = tools.MultiStatistics(fitness=stats_fit, size=stats_size)\n",
    "mstats.register(\"avg\", np.mean)\n",
    "mstats.register(\"std\", np.std)\n",
    "mstats.register(\"min\", np.min)\n",
    "mstats.register(\"max\", np.max)\n",
    "pop = toolbox.population(n=POP_SIZE)\n",
    "hof = tools.HallOfFame(HOF_SIZE)\n",
    "pop, log = algorithms.eaMuPlusLambda(pop, toolbox,MU,LAMBDA, MATING_PROB, MUTATION_PROB, NUM_GENERATIONS, stats=mstats,halloffame=hof, verbose=True)\n"
   ]
  },
  {
   "cell_type": "code",
   "execution_count": null,
   "metadata": {},
   "outputs": [],
   "source": []
  },
  {
   "cell_type": "code",
   "execution_count": 5,
   "metadata": {},
   "outputs": [],
   "source": [
    "file=open('./evolved_funcs/best_funcs3','wb')\n",
    "hof=pickle.dump(hof,file)\n",
    "file.close()\n"
   ]
  },
  {
   "cell_type": "code",
   "execution_count": null,
   "metadata": {},
   "outputs": [],
   "source": []
  },
  {
   "cell_type": "code",
   "execution_count": 13,
   "metadata": {},
   "outputs": [
    {
     "name": "stdout",
     "output_type": "stream",
     "text": [
      "Function  add(add(LS, LF), min(div(add(LS, LF), sub(div(neg(LF), mul(MaxRReq, TSC)), min(mul(MaxRReq, EF), mul(LS, LS)))), neg(AvgRReq)))\n",
      "./j30/j309_3.sm (0.5625, 75) 18.329691274224558                                                      17.960909597368662                                                                            (0.0, 51) 18.730802475244825                    (0.42857142857142855, 90) 18.87455900754932                    (0.4745762711864407, 87) 18.645798822900634                   (0.11363636363636363, 49) 18.099467013749095                   (0.19047619047619047, 50) 18.242424438484242                    (0.0, 52) 17.92038213186094                   18.381022521557014                    (0.015625, 65) 18.47931989963749                   18.59457694502528                    (0.1346153846153846, 59) 18.088527879264923                                                          (0.15555555555555556, 52) 18.127930953293095                   \n",
      "384 j30 files read\n",
      "j30 18.329691274224558 23710\n",
      "./j60/j6020_4.sm (0.0, 86) 17.12456076720539                                      , 79) 19.120762711864405                   20.60935365590695                    (0.140625, 73) 18.250634673565198                                      17.003311433581437                    (0.028985507246376812, 71) 16.623441166051652                   16.311087198638088                                      15.548993483726795                    (0.0, 76) 15.692507034461316                    (0.12643678160919541, 98) 15.942552203579133                   16.087916798717853                   \n",
      "384 j60 files read\n",
      "j60 17.12456076720539 32367\n",
      "./j90/j9042_5.sm (0.06666666666666667, 112) 15.550412474866057                                                                          15.36451622759811                                                         17.890263121497995                                      \r"
     ]
    },
    {
     "ename": "KeyboardInterrupt",
     "evalue": "",
     "output_type": "error",
     "traceback": [
      "\u001b[0;31m---------------------------------------------------------------------------\u001b[0m",
      "\u001b[0;31mKeyboardInterrupt\u001b[0m                         Traceback (most recent call last)",
      "\u001b[0;32m<ipython-input-13-1441d26543d0>\u001b[0m in \u001b[0;36m<module>\u001b[0;34m\u001b[0m\n\u001b[1;32m      4\u001b[0m     \u001b[0mtest_type\u001b[0m\u001b[0;34m=\u001b[0m\u001b[0;34m[\u001b[0m\u001b[0;34m'j30'\u001b[0m\u001b[0;34m,\u001b[0m\u001b[0;34m'j60'\u001b[0m\u001b[0;34m,\u001b[0m\u001b[0;34m'j90'\u001b[0m\u001b[0;34m,\u001b[0m\u001b[0;34m'j120'\u001b[0m\u001b[0;34m]\u001b[0m\u001b[0;34m\u001b[0m\u001b[0;34m\u001b[0m\u001b[0m\n\u001b[1;32m      5\u001b[0m     \u001b[0;32mfor\u001b[0m \u001b[0mtyp\u001b[0m \u001b[0;32min\u001b[0m \u001b[0mtest_type\u001b[0m\u001b[0;34m:\u001b[0m\u001b[0;34m\u001b[0m\u001b[0;34m\u001b[0m\u001b[0m\n\u001b[0;32m----> 6\u001b[0;31m         \u001b[0mtotal_dev_percent\u001b[0m\u001b[0;34m,\u001b[0m\u001b[0mmakespan\u001b[0m\u001b[0;34m=\u001b[0m\u001b[0mstatistics\u001b[0m\u001b[0;34m.\u001b[0m\u001b[0mevaluate_custom_rule\u001b[0m\u001b[0;34m(\u001b[0m\u001b[0mtrain_set\u001b[0m\u001b[0;34m,\u001b[0m\u001b[0minstance\u001b[0m\u001b[0;34m.\u001b[0m\u001b[0minstance\u001b[0m\u001b[0;34m,\u001b[0m\u001b[0mtoolbox\u001b[0m\u001b[0;34m.\u001b[0m\u001b[0mcompile\u001b[0m\u001b[0;34m(\u001b[0m\u001b[0mexpr\u001b[0m\u001b[0;34m=\u001b[0m\u001b[0mhof\u001b[0m\u001b[0;34m[\u001b[0m\u001b[0mhof_index\u001b[0m\u001b[0;34m]\u001b[0m\u001b[0;34m)\u001b[0m\u001b[0;34m,\u001b[0m\u001b[0minst_type\u001b[0m\u001b[0;34m=\u001b[0m\u001b[0mtyp\u001b[0m\u001b[0;34m,\u001b[0m\u001b[0mmode\u001b[0m\u001b[0;34m=\u001b[0m\u001b[0;34m'parallel'\u001b[0m\u001b[0;34m,\u001b[0m\u001b[0moption\u001b[0m\u001b[0;34m=\u001b[0m\u001b[0;34m'forward'\u001b[0m\u001b[0;34m)\u001b[0m\u001b[0;34m\u001b[0m\u001b[0;34m\u001b[0m\u001b[0m\n\u001b[0m\u001b[1;32m      7\u001b[0m         \u001b[0mprint\u001b[0m\u001b[0;34m(\u001b[0m\u001b[0mtyp\u001b[0m\u001b[0;34m,\u001b[0m\u001b[0mtotal_dev_percent\u001b[0m\u001b[0;34m,\u001b[0m\u001b[0mmakespan\u001b[0m\u001b[0;34m)\u001b[0m\u001b[0;34m\u001b[0m\u001b[0;34m\u001b[0m\u001b[0m\n\u001b[1;32m      8\u001b[0m         \u001b[0mlog_file\u001b[0m\u001b[0;34m=\u001b[0m\u001b[0mopen\u001b[0m\u001b[0;34m(\u001b[0m\u001b[0;34m'results_log.txt'\u001b[0m\u001b[0;34m,\u001b[0m\u001b[0;34m'a+'\u001b[0m\u001b[0;34m)\u001b[0m\u001b[0;34m\u001b[0m\u001b[0;34m\u001b[0m\u001b[0m\n",
      "\u001b[0;32m~/Documents/Projects/GP/parallelgeneticprogramming_scheduling/statistics.py\u001b[0m in \u001b[0;36mevaluate_custom_rule\u001b[0;34m(train_set, instance, priority_func, inst_type, mode, option, use_precomputed)\u001b[0m\n\u001b[1;32m     68\u001b[0m     \u001b[0;32mfor\u001b[0m \u001b[0mfile\u001b[0m \u001b[0;32min\u001b[0m \u001b[0mall_files\u001b[0m\u001b[0;34m:\u001b[0m\u001b[0;34m\u001b[0m\u001b[0;34m\u001b[0m\u001b[0m\n\u001b[1;32m     69\u001b[0m         \u001b[0;32mif\u001b[0m \u001b[0mfile\u001b[0m \u001b[0;32min\u001b[0m \u001b[0mtrain_set\u001b[0m\u001b[0;34m:\u001b[0m\u001b[0;34m\u001b[0m\u001b[0;34m\u001b[0m\u001b[0m\n\u001b[0;32m---> 70\u001b[0;31m             \u001b[0mprint\u001b[0m\u001b[0;34m(\u001b[0m\u001b[0;34m\"skipped\"\u001b[0m\u001b[0;34m)\u001b[0m\u001b[0;34m\u001b[0m\u001b[0;34m\u001b[0m\u001b[0m\n\u001b[0m\u001b[1;32m     71\u001b[0m             \u001b[0;32mcontinue\u001b[0m\u001b[0;34m\u001b[0m\u001b[0;34m\u001b[0m\u001b[0m\n\u001b[1;32m     72\u001b[0m         \u001b[0mcount\u001b[0m\u001b[0;34m+=\u001b[0m\u001b[0;36m1\u001b[0m\u001b[0;34m\u001b[0m\u001b[0;34m\u001b[0m\u001b[0m\n",
      "\u001b[0;32m~/Documents/Projects/GP/parallelgeneticprogramming_scheduling/instance.py\u001b[0m in \u001b[0;36m__init__\u001b[0;34m(self, filepath, use_precomputed)\u001b[0m\n\u001b[1;32m     69\u001b[0m                 \u001b[0;32mfor\u001b[0m \u001b[0mj\u001b[0m \u001b[0;32min\u001b[0m \u001b[0mself\u001b[0m\u001b[0;34m.\u001b[0m\u001b[0madj\u001b[0m\u001b[0;34m[\u001b[0m\u001b[0mi\u001b[0m\u001b[0;34m]\u001b[0m\u001b[0;34m:\u001b[0m\u001b[0;34m\u001b[0m\u001b[0;34m\u001b[0m\u001b[0m\n\u001b[1;32m     70\u001b[0m                     \u001b[0mself\u001b[0m\u001b[0;34m.\u001b[0m\u001b[0mG\u001b[0m\u001b[0;34m.\u001b[0m\u001b[0madd_edge\u001b[0m\u001b[0;34m(\u001b[0m\u001b[0mi\u001b[0m\u001b[0;34m,\u001b[0m\u001b[0mj\u001b[0m\u001b[0;34m)\u001b[0m\u001b[0;34m\u001b[0m\u001b[0;34m\u001b[0m\u001b[0m\n\u001b[0;32m---> 71\u001b[0;31m                     \u001b[0mself\u001b[0m\u001b[0;34m.\u001b[0m\u001b[0mG_T\u001b[0m\u001b[0;34m.\u001b[0m\u001b[0madd_edge\u001b[0m\u001b[0;34m(\u001b[0m\u001b[0mj\u001b[0m\u001b[0;34m,\u001b[0m\u001b[0mi\u001b[0m\u001b[0;34m)\u001b[0m\u001b[0;34m\u001b[0m\u001b[0;34m\u001b[0m\u001b[0m\n\u001b[0m\u001b[1;32m     72\u001b[0m         \u001b[0;32melse\u001b[0m\u001b[0;34m:\u001b[0m\u001b[0;34m\u001b[0m\u001b[0;34m\u001b[0m\u001b[0m\n\u001b[1;32m     73\u001b[0m             \u001b[0mprint\u001b[0m\u001b[0;34m(\u001b[0m\u001b[0;34m\"Path not provided\"\u001b[0m\u001b[0;34m)\u001b[0m\u001b[0;34m\u001b[0m\u001b[0;34m\u001b[0m\u001b[0m\n",
      "\u001b[0;32m~/anaconda3/lib/python3.7/site-packages/networkx/classes/digraph.py\u001b[0m in \u001b[0;36madd_edge\u001b[0;34m(self, u_of_edge, v_of_edge, **attr)\u001b[0m\n\u001b[1;32m    638\u001b[0m         \u001b[0mdatadict\u001b[0m \u001b[0;34m=\u001b[0m \u001b[0mself\u001b[0m\u001b[0;34m.\u001b[0m\u001b[0m_adj\u001b[0m\u001b[0;34m[\u001b[0m\u001b[0mu\u001b[0m\u001b[0;34m]\u001b[0m\u001b[0;34m.\u001b[0m\u001b[0mget\u001b[0m\u001b[0;34m(\u001b[0m\u001b[0mv\u001b[0m\u001b[0;34m,\u001b[0m \u001b[0mself\u001b[0m\u001b[0;34m.\u001b[0m\u001b[0medge_attr_dict_factory\u001b[0m\u001b[0;34m(\u001b[0m\u001b[0;34m)\u001b[0m\u001b[0;34m)\u001b[0m\u001b[0;34m\u001b[0m\u001b[0;34m\u001b[0m\u001b[0m\n\u001b[1;32m    639\u001b[0m         \u001b[0mdatadict\u001b[0m\u001b[0;34m.\u001b[0m\u001b[0mupdate\u001b[0m\u001b[0;34m(\u001b[0m\u001b[0mattr\u001b[0m\u001b[0;34m)\u001b[0m\u001b[0;34m\u001b[0m\u001b[0;34m\u001b[0m\u001b[0m\n\u001b[0;32m--> 640\u001b[0;31m         \u001b[0mself\u001b[0m\u001b[0;34m.\u001b[0m\u001b[0m_succ\u001b[0m\u001b[0;34m[\u001b[0m\u001b[0mu\u001b[0m\u001b[0;34m]\u001b[0m\u001b[0;34m[\u001b[0m\u001b[0mv\u001b[0m\u001b[0;34m]\u001b[0m \u001b[0;34m=\u001b[0m \u001b[0mdatadict\u001b[0m\u001b[0;34m\u001b[0m\u001b[0;34m\u001b[0m\u001b[0m\n\u001b[0m\u001b[1;32m    641\u001b[0m         \u001b[0mself\u001b[0m\u001b[0;34m.\u001b[0m\u001b[0m_pred\u001b[0m\u001b[0;34m[\u001b[0m\u001b[0mv\u001b[0m\u001b[0;34m]\u001b[0m\u001b[0;34m[\u001b[0m\u001b[0mu\u001b[0m\u001b[0;34m]\u001b[0m \u001b[0;34m=\u001b[0m \u001b[0mdatadict\u001b[0m\u001b[0;34m\u001b[0m\u001b[0;34m\u001b[0m\u001b[0m\n\u001b[1;32m    642\u001b[0m \u001b[0;34m\u001b[0m\u001b[0m\n",
      "\u001b[0;31mKeyboardInterrupt\u001b[0m: "
     ]
    }
   ],
   "source": [
    "for hof_index in range(HOF_SIZE):\n",
    "    nodes, edges, labels = gp.graph(hof[hof_index])\n",
    "    print(\"Function \", hof[hof_index])\n",
    "    test_type=['j30','j60','j90','j120']\n",
    "    sum_total_dev=0\n",
    "    sum_counts=0\n",
    "    for typ in test_type:\n",
    "        total_dev_percent,makespan,total_dev,count=statistics.evaluate_custom_rule(instance.instance,toolbox.compile(expr=hof[hof_index]),inst_type=typ,mode='parallel',option='forward')\n",
    "        print(typ,total_dev_percent,makespan)\n",
    "        log_file=open('results_log.txt','a+')\n",
    "        log_file.write(str(hof[hof_index])+\" : \\n              \"+INST_TYPE+\"         \"+typ+\"         \"+str(len(train_set))+\"               \"+str(NUM_GENERATIONS)+\"          \"+str(MATING_PROB)+\"           \"+str(MUTATION_PROB)+\"         \"+str(round(total_dev_percent,2))+\"        \"+str(makespan)+\"       \\n\\n\")\n",
    "        log_file.close()\n",
    "        sum_total_dev+=total_dev\n",
    "        sum_counts+=count\n",
    "    print(\"Aggregate % \",(sum_total_dev*100)/sum_counts)\n",
    "\n",
    "\n",
    "    g = pgv.AGraph()\n",
    "    g.add_nodes_from(nodes)\n",
    "    g.add_edges_from(edges)\n",
    "    g.layout(prog=\"dot\")\n",
    "\n",
    "    for i in nodes:\n",
    "        n = g.get_node(i)\n",
    "        n.attr[\"label\"] = labels[i]\n",
    "\n",
    "    g.draw(\"./gp_trees/\"+str(round(total_dev_percent,2))+\"__3.png\")\n"
   ]
  },
  {
   "cell_type": "code",
   "execution_count": null,
   "metadata": {},
   "outputs": [],
   "source": [
    "    "
   ]
  }
 ],
 "metadata": {
  "kernelspec": {
   "display_name": "Python 3",
   "language": "python",
   "name": "python3"
  },
  "language_info": {
   "codemirror_mode": {
    "name": "ipython",
    "version": 3
   },
   "file_extension": ".py",
   "mimetype": "text/x-python",
   "name": "python",
   "nbconvert_exporter": "python",
   "pygments_lexer": "ipython3",
   "version": "3.7.3"
  }
 },
 "nbformat": 4,
 "nbformat_minor": 4
}
