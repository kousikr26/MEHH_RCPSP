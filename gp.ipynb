{
 "cells": [
  {
   "cell_type": "code",
   "execution_count": 1,
   "metadata": {},
   "outputs": [],
   "source": [
    "import sys\n",
    "import networkx as nx\n",
    "import matplotlib.pyplot as plt\n",
    "import pygraphviz as pgv\n",
    "import random\n",
    "from os import listdir\n",
    "import pickle\n",
    "import time\n",
    "import instance\n",
    "import statistics\n",
    "from utils import read_param,add_lists,sub_lists, less_than, min_finish_time, find_index #Utility functions\n",
    "import numpy as np\n",
    "from deap import base,creator,tools,algorithms,gp\n",
    "import operator\n",
    "import math"
   ]
  },
  {
   "cell_type": "code",
   "execution_count": 2,
   "metadata": {},
   "outputs": [],
   "source": [
    "train_set=[]\n",
    "\n",
    "types=['j30','j60']\n",
    "for typ in types:\n",
    "  for i in range(1,49):\n",
    "    train_set.append(\"./\"+typ+'/'+typ+str(i)+\"_1.sm\")\n",
    "    train_set.append(\"./\"+typ+'/'+typ+str(i)+\"_2.sm\")\n"
   ]
  },
  {
   "cell_type": "code",
   "execution_count": 3,
   "metadata": {},
   "outputs": [],
   "source": [
    "\n",
    "POP_SIZE=1024\n",
    "NUM_GENERATIONS=25\n",
    "INST_TYPE='j60'\n",
    "MATING_PROB=0.5\n",
    "MUTATION_PROB=0.3\n",
    "SELECTION_POOL_SIZE=7\n",
    "HOF_SIZE=1\n",
    "HEIGHT_LIMIT = 6\n",
    "MU=1024\n",
    "LAMBDA=1024\n",
    "GEN_MIN_HEIGHT=3\n",
    "GEN_MAX_HEIGHT=5"
   ]
  },
  {
   "cell_type": "code",
   "execution_count": 4,
   "metadata": {},
   "outputs": [
    {
     "name": "stdout",
     "output_type": "stream",
     "text": [
      "   \t      \t                                 fitness                                 \t                      size                     \n",
      "   \t      \t-------------------------------------------------------------------------\t-----------------------------------------------\n",
      "gen\tnevals\tavg     \tgen\tmax     \tmin     \tnevals\tstd      \tavg    \tgen\tmax\tmin\tnevals\tstd    \n",
      "0  \t1024  \t0.243311\t0  \t0.306841\t0.176631\t1024  \t0.0296102\t23.3184\t0  \t63 \t4  \t1024  \t13.4102\n",
      "1  \t775   \t0.205137\t1  \t0.251931\t0.176631\t775   \t0.013728 \t21.4658\t1  \t62 \t3  \t775   \t12.4066\n",
      "2  \t817   \t0.188245\t2  \t0.216094\t0.176631\t817   \t0.00613293\t19.8242\t2  \t62 \t2  \t817   \t12.8652\n",
      "3  \t822   \t0.181621\t3  \t0.19083 \t0.175296\t822   \t0.00220317\t18.7646\t3  \t59 \t2  \t822   \t14.0695\n",
      "4  \t826   \t0.179137\t4  \t0.184227\t0.174102\t826   \t0.00167435\t17.709 \t4  \t57 \t3  \t826   \t9.73924\n",
      "5  \t829   \t0.176728\t5  \t0.180392\t0.173547\t829   \t0.00137555\t14.5391\t5  \t57 \t5  \t829   \t9.88244\n",
      "6  \t822   \t0.174902\t6  \t0.177571\t0.169682\t822   \t0.000962185\t16.6992\t6  \t42 \t5  \t822   \t6.22898\n",
      "7  \t808   \t0.173825\t7  \t0.175296\t0.169682\t808   \t0.000690274\t19.4688\t7  \t39 \t7  \t808   \t5.10773\n",
      "8  \t831   \t0.172916\t8  \t0.174226\t0.169682\t831   \t0.000991894\t20.0312\t8  \t46 \t7  \t831   \t6.20035\n",
      "9  \t813   \t0.171626\t9  \t0.173547\t0.169682\t813   \t0.00117892 \t17.7588\t9  \t46 \t9  \t813   \t6.75357\n",
      "10 \t797   \t0.170244\t10 \t0.172533\t0.169682\t797   \t0.000894223\t12.457 \t10 \t31 \t9  \t797   \t5.83448\n",
      "11 \t803   \t0.169696\t11 \t0.171868\t0.169682\t803   \t0.000143223\t9.50195\t11 \t31 \t9  \t803   \t1.89159\n",
      "12 \t818   \t0.169685\t12 \t0.173089\t0.169682\t818   \t0.000106433\t9.45215\t12 \t21 \t7  \t818   \t1.62129\n",
      "13 \t786   \t0.169685\t13 \t0.172997\t0.169682\t786   \t0.000103547\t9.5332 \t13 \t21 \t9  \t786   \t1.77462\n",
      "14 \t829   \t0.169682\t14 \t0.169682\t0.169682\t829   \t5.55112e-17\t9.62012\t14 \t21 \t9  \t829   \t1.96831\n",
      "15 \t849   \t0.169682\t15 \t0.169682\t0.169682\t849   \t5.55112e-17\t9.77539\t15 \t28 \t9  \t849   \t2.18981\n",
      "16 \t806   \t0.169684\t16 \t0.171995\t0.169682\t806   \t7.22481e-05\t10.0098\t16 \t32 \t9  \t806   \t2.56324\n",
      "17 \t815   \t0.169682\t17 \t0.169682\t0.169682\t815   \t5.55112e-17\t9.85156\t17 \t25 \t9  \t815   \t2.30731\n",
      "18 \t823   \t0.169682\t18 \t0.169682\t0.169505\t823   \t7.79502e-06\t10.0605\t18 \t29 \t9  \t823   \t2.80141\n",
      "19 \t848   \t0.169679\t19 \t0.169682\t0.168904\t848   \t3.07956e-05\t10.4639\t19 \t29 \t9  \t848   \t3.39471\n",
      "20 \t812   \t0.169668\t20 \t0.169682\t0.168904\t812   \t6.41442e-05\t11.4033\t20 \t34 \t9  \t812   \t4.72985\n",
      "21 \t830   \t0.169612\t21 \t0.169682\t0.168904\t830   \t0.00012138 \t15.5117\t21 \t29 \t9  \t830   \t7.24109\n",
      "22 \t831   \t0.169481\t22 \t0.169682\t0.168904\t831   \t0.000172993\t22.7598\t22 \t29 \t9  \t831   \t4.97424\n",
      "23 \t816   \t0.169326\t23 \t0.169585\t0.168904\t816   \t0.000274847\t22.3164\t23 \t26 \t16 \t816   \t4.11522\n",
      "24 \t824   \t0.169016\t24 \t0.169505\t0.168904\t824   \t0.000233203\t17.7549\t24 \t32 \t16 \t824   \t3.63569\n",
      "25 \t813   \t0.168904\t25 \t0.169463\t0.168904\t813   \t1.74662e-05\t16.1299\t25 \t32 \t16 \t813   \t1.35487\n"
     ]
    }
   ],
   "source": [
    "def div(left, right):\n",
    "    try:\n",
    "        return left / right\n",
    "    except ZeroDivisionError:\n",
    "        return 1\n",
    "\n",
    "\n",
    "pset = gp.PrimitiveSet(\"MAIN\",10)\n",
    "pset.addPrimitive(operator.add, 2)\n",
    "pset.addPrimitive(operator.sub, 2)\n",
    "pset.addPrimitive(operator.mul, 2)\n",
    "pset.addPrimitive(div, 2)\n",
    "pset.addPrimitive(operator.neg, 1)\n",
    "pset.addPrimitive(max, 2)\n",
    "pset.addPrimitive(min, 2)\n",
    "pset.renameArguments(ARG0=\"ES\")\n",
    "pset.renameArguments(ARG1=\"EF\")\n",
    "pset.renameArguments(ARG2=\"LS\")\n",
    "pset.renameArguments(ARG3=\"LF\")\n",
    "pset.renameArguments(ARG4=\"TPC\")\n",
    "pset.renameArguments(ARG5=\"TSC\")\n",
    "pset.renameArguments(ARG6=\"RR\")\n",
    "pset.renameArguments(ARG7=\"AvgRReq\")\n",
    "pset.renameArguments(ARG8=\"MaxRReq\")\n",
    "pset.renameArguments(ARG9=\"MinRReq\")\n",
    "creator.create(\"FitnessMin\", base.Fitness, weights=(-1.0,))\n",
    "creator.create(\"Individual\", gp.PrimitiveTree, fitness=creator.FitnessMin)\n",
    "counts=0\n",
    "def evalSymbReg(individual):\n",
    "    # Transform the tree expression in a callable function\n",
    "    \n",
    "    func = toolbox.compile(expr=individual)\n",
    "    sumv=0\n",
    "    for i in range(len(train_set)):\n",
    "        \n",
    "        file=train_set[i]\n",
    "        \n",
    "        inst=instance.instance(file,use_precomputed=True)\n",
    "        priorities=[0]*(inst.n_jobs+1)\n",
    "        for j in range(1,inst.n_jobs+1):\n",
    "            priorities[j]=func(inst.earliest_start_times[j],inst.earliest_finish_times[j],inst.latest_start_times[j],inst.latest_finish_times[j],inst.mtp[j],inst.mts[j],inst.rr[j],inst.avg_rreq[j],inst.max_rreq[j],inst.min_rreq[j])\n",
    "\n",
    "        frac,makespan=inst.parallel_sgs(option='forward',priority_rule='',priorities=priorities)\n",
    "        sumv+=frac\n",
    "    \n",
    "    return (sumv/len(train_set),)\n",
    "\n",
    "toolbox = base.Toolbox()\n",
    "toolbox.register(\"expr\", gp.genHalfAndHalf, pset=pset, min_=GEN_MIN_HEIGHT, max_=GEN_MAX_HEIGHT)\n",
    "toolbox.register(\"individual\", tools.initIterate, creator.Individual, toolbox.expr)\n",
    "toolbox.register(\"population\", tools.initRepeat, list, toolbox.individual)\n",
    "toolbox.register(\"compile\", gp.compile, pset=pset)\n",
    "toolbox.register(\"evaluate\", evalSymbReg)\n",
    "toolbox.register(\"select\", tools.selTournament, tournsize=SELECTION_POOL_SIZE)\n",
    "toolbox.register(\"mate\", gp.cxOnePoint)\n",
    "toolbox.register(\"expr_mut\", gp.genFull, min_=GEN_MIN_HEIGHT, max_=GEN_MAX_HEIGHT)\n",
    "toolbox.register(\"mutate\", gp.mutUniform, expr=toolbox.expr_mut, pset=pset)\n",
    "\n",
    "toolbox.decorate(\"mate\", gp.staticLimit(key=operator.attrgetter(\"height\"), max_value=HEIGHT_LIMIT))\n",
    "toolbox.decorate(\"mutate\", gp.staticLimit(key=operator.attrgetter(\"height\"), max_value=HEIGHT_LIMIT))\n",
    "\n",
    "stats_fit = tools.Statistics(lambda ind: ind.fitness.values)\n",
    "stats_size = tools.Statistics(len)\n",
    "mstats = tools.MultiStatistics(fitness=stats_fit, size=stats_size)\n",
    "mstats.register(\"avg\", np.mean)\n",
    "mstats.register(\"std\", np.std)\n",
    "mstats.register(\"min\", np.min)\n",
    "mstats.register(\"max\", np.max)\n",
    "pop = toolbox.population(n=POP_SIZE)\n",
    "hof = tools.HallOfFame(HOF_SIZE)\n",
    "pop, log = algorithms.eaMuPlusLambda(pop, toolbox,MU,LAMBDA, MATING_PROB, MUTATION_PROB, NUM_GENERATIONS, stats=mstats,halloffame=hof, verbose=True)\n"
   ]
  },
  {
   "cell_type": "code",
   "execution_count": null,
   "metadata": {},
   "outputs": [],
   "source": []
  },
  {
   "cell_type": "code",
   "execution_count": 5,
   "metadata": {},
   "outputs": [],
   "source": [
    "file=open('./evolved_funcs/best_funcs3','wb')\n",
    "pickle.dump(hof,file)\n",
    "file.close()\n"
   ]
  },
  {
   "cell_type": "code",
   "execution_count": null,
   "metadata": {},
   "outputs": [],
   "source": []
  },
  {
   "cell_type": "code",
   "execution_count": 6,
   "metadata": {},
   "outputs": [
    {
     "name": "stdout",
     "output_type": "stream",
     "text": [
      "Function  add(mul(sub(LF, MaxRReq), add(LF, TSC)), max(LS, neg(add(LS, sub(ES, EF)))))\n",
      "./j30/j309_9.sm (0.9459459459459459, 72) 18.638414821556573                                                              18.4217462387142                     (0.8085106382978723, 85) 18.02250123286325                     (0.11428571428571428, 39) 18.37913339518374                    \n",
      "336 j30 files read\n",
      "j30 18.638414821556573 20743\n",
      "./j60/j609_9.sm (0.3875, 111) 17.445570547041534                                   14.00198929770458                     (0.13580246913580246, 92) 18.35297901009657                                         (0.0, 70) 17.520960748345                     (0.803921568627451, 92) 17.350401604598193                    \n",
      "336 j60 files read\n",
      "j60 17.445570547041534 28305\n",
      "./j90/j909_9.sm (0.8, 135) 15.463648291450633                                        14.435373815345086                     (0.6883116883116883, 130) 15.574830625908378                    \n",
      "480 j90 files read\n",
      "j90 15.574830625908378 48101\n",
      "./j120/j1209_9.sm (0.12643678160919541, 98) 43.50386920404016                        \n",
      "600 j120 files read\n",
      "j120 43.50386920404016 81464\n",
      "Aggregate %  26.085878599719795\n"
     ]
    }
   ],
   "source": [
    "for hof_index in range(HOF_SIZE):\n",
    "    nodes, edges, labels = gp.graph(hof[hof_index])\n",
    "    print(\"Function \", hof[hof_index])\n",
    "    test_type=['j30','j60','j90','j120']\n",
    "    sum_total_dev=0\n",
    "    sum_counts=0\n",
    "    for typ in test_type:\n",
    "        total_dev_percent,makespan,total_dev,count=statistics.evaluate_custom_rule(instance.instance,toolbox.compile(expr=hof[hof_index]),inst_type=typ,mode='parallel',option='forward')\n",
    "        print(typ,total_dev_percent,makespan)\n",
    "        log_file=open('results_log.txt','a+')\n",
    "        log_file.write(str(hof[hof_index])+\" : \\n              \"+INST_TYPE+\"         \"+typ+\"         \"+str(len(train_set))+\"               \"+str(NUM_GENERATIONS)+\"          \"+str(MATING_PROB)+\"           \"+str(MUTATION_PROB)+\"         \"+str(round(total_dev_percent,2))+\"        \"+str(makespan)+\"       \\n\\n\")\n",
    "        log_file.close()\n",
    "        sum_total_dev+=total_dev\n",
    "        sum_counts+=count\n",
    "    print(\"Aggregate % \",(sum_total_dev*100)/sum_counts)\n",
    "\n",
    "\n",
    "    g = pgv.AGraph()\n",
    "    g.add_nodes_from(nodes)\n",
    "    g.add_edges_from(edges)\n",
    "    g.layout(prog=\"dot\")\n",
    "\n",
    "    for i in nodes:\n",
    "        n = g.get_node(i)\n",
    "        n.attr[\"label\"] = labels[i]\n",
    "\n",
    "    g.draw(\"./gp_trees/\"+str(round(total_dev_percent,2))+\"__3.png\")\n"
   ]
  },
  {
   "cell_type": "code",
   "execution_count": null,
   "metadata": {},
   "outputs": [],
   "source": [
    "    "
   ]
  }
 ],
 "metadata": {
  "kernelspec": {
   "display_name": "Python 3",
   "language": "python",
   "name": "python3"
  },
  "language_info": {
   "codemirror_mode": {
    "name": "ipython",
    "version": 3
   },
   "file_extension": ".py",
   "mimetype": "text/x-python",
   "name": "python",
   "nbconvert_exporter": "python",
   "pygments_lexer": "ipython3",
   "version": "3.7.3"
  }
 },
 "nbformat": 4,
 "nbformat_minor": 4
}
